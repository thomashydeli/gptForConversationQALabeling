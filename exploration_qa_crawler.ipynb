{
 "cells": [
  {
   "cell_type": "code",
   "execution_count": 1,
   "id": "dd0b5b67",
   "metadata": {},
   "outputs": [],
   "source": [
    "import json\n",
    "import openai\n",
    "import numpy as np\n",
    "import pandas as pd\n",
    "from bs4 import BeautifulSoup"
   ]
  },
  {
   "cell_type": "code",
   "execution_count": 6,
   "id": "5947e9e5",
   "metadata": {},
   "outputs": [],
   "source": [
    "with open('../secrets.json','r') as f:\n",
    "    secrets=json.load(f)"
   ]
  },
  {
   "cell_type": "code",
   "execution_count": null,
   "id": "78aae534",
   "metadata": {},
   "outputs": [],
   "source": [
    "openai.api_key=secret['openai']"
   ]
  },
  {
   "cell_type": "code",
   "execution_count": null,
   "id": "f1bfe4a0",
   "metadata": {},
   "outputs": [],
   "source": [
    "base_prompt=\"\"\"The follow text snippet is a conversation between multiple individuals asking some technical questions:\\n\"\"\"\n",
    "\n",
    "question_plugin=\"\"\"\n",
    "Based on this conversation, the question that was raised was: {question}\"\"\"\n",
    "\n",
    "question_summary_plugin=f\"\"\"\n",
    "Use three top keywords to summarize this question (just give me the words separated by comma): \"\"\"\n",
    "\n",
    "answer_plugin=\"\"\"\n",
    "The answer to the question was: {answer}\"\"\"\n",
    "\n",
    "answer_summary_plugin=f\"\"\"\n",
    "Use three top keywords to summarize the answer (just give me the words separated by comma): \"\"\"\n",
    "\n",
    "question_user_plugin=\"\"\"\n",
    "The person or people who asked the question was/were (just give me his/her/their name(s) separated by comma): {asker}\"\"\"\n",
    "\n",
    "answer_user_plugin=\"\"\"\n",
    "The person or people who answered the question was/were (just give me his/her/their name(s) separated by comma): {answerer}\"\"\"\n",
    "\n",
    "answer_rating_plugin=f\"\"\"\n",
    "How would you raise this answer on a scale from 0-10 (just give me the score): \"\"\""
   ]
  },
  {
   "cell_type": "code",
   "execution_count": null,
   "id": "d61c99f1",
   "metadata": {},
   "outputs": [],
   "source": [
    "def getResponse(prompt, max_tokens, temperature=0.2):\n",
    "    completion=openai.Completion.create(\n",
    "        engine='text-davinci-003',\n",
    "        prompt=prompt,\n",
    "        max_tokens=max_tokens,\n",
    "        n=1,\n",
    "        stop=None,\n",
    "        temperature=temperature\n",
    "    )\n",
    "    response=completion.choices[0].text\n",
    "    return response"
   ]
  },
  {
   "cell_type": "code",
   "execution_count": null,
   "id": "be1b2529",
   "metadata": {},
   "outputs": [],
   "source": [
    "def send2GPT(prompt, maxlen=1600):\n",
    "    estimated_token=max(len(prompt.split()),maxlen)\n",
    "    output=getResponse(\n",
    "        prompt, \n",
    "        estimated_token,\n",
    "        0.01\n",
    "    ).lstrip().rstrip()\n",
    "    return output"
   ]
  },
  {
   "cell_type": "code",
   "execution_count": null,
   "id": "9c4afed5",
   "metadata": {},
   "outputs": [],
   "source": [
    "def priceEstimator(prompt, response, unit_price=0.02, discount=0.75):\n",
    "    prompt_price=len(prompt.split())*discount*unit_price/1000\n",
    "    response_price=len(response.split())*discount*unit_price/1000\n",
    "    return prompt_price+response_price"
   ]
  },
  {
   "cell_type": "code",
   "execution_count": null,
   "id": "da0e5b60",
   "metadata": {},
   "outputs": [],
   "source": [
    "with open('data/pythondev.xml','r',encoding='utf8') as f:\n",
    "    data=f.read()\n",
    "    \n",
    "bs_data=BeautifulSoup(data,'xml')\n",
    "messages=bs_data.find_all('message')"
   ]
  },
  {
   "cell_type": "code",
   "execution_count": null,
   "id": "7bfac5ba",
   "metadata": {},
   "outputs": [],
   "source": [
    "dataframe={\n",
    "    'conversation_id':[],\n",
    "    'user':[],\n",
    "    'text':[],\n",
    "}\n",
    "\n",
    "for message in messages:\n",
    "    dataframe['conversation_id'].append(message.get('conversation_id'))\n",
    "    text=message.find_all('text')\n",
    "    dataframe['user'].append(message.find('user').text)\n",
    "    if len(text) != 1:\n",
    "        print(f'parsing has failed, expect one text message, instead got {len(text)}')\n",
    "        break\n",
    "    else:\n",
    "        dataframe['text'].append(text[0].text)\n",
    "dataframe=pd.DataFrame(dataframe)"
   ]
  },
  {
   "cell_type": "code",
   "execution_count": null,
   "id": "485151f6",
   "metadata": {},
   "outputs": [],
   "source": [
    "text_data=[]\n",
    "\n",
    "for conversation in dataframe.conversation_id.unique():\n",
    "    subset=dataframe[dataframe['conversation_id']==conversation]\n",
    "    text=[]\n",
    "    for _,row in subset.iterrows():\n",
    "        text.append(f\"{row['user']}: {row['text']}\")\n",
    "    text=\"\\n\\n\".join(text)\n",
    "    text_data.append(text)"
   ]
  },
  {
   "cell_type": "code",
   "execution_count": null,
   "id": "16df4949",
   "metadata": {},
   "outputs": [],
   "source": [
    "qa_data={\n",
    "    'question':[],\n",
    "    'asker':[],\n",
    "    'question_summary':[],\n",
    "    'answer':[],\n",
    "    'answerer':[],\n",
    "    'answer_summary':[],\n",
    "    'was_resolved':[],\n",
    "    'answer_rating':[],\n",
    "}\n",
    "total_pricing=0\n",
    "i=0\n",
    "# while total_price < 20:\n",
    "for i in range(30):\n",
    "    print(f'currently processing item: {i+1}')\n",
    "    conversation=\"\\n```\\n\"+text_data[i]+\"\\n```\\n\"\n",
    "    pricing=0\n",
    "\n",
    "    # what is the question?\n",
    "    prompt=base_prompt+conversation+question_plugin.format(\n",
    "        question=''\n",
    "    )\n",
    "    question=send2GPT(prompt)\n",
    "    qa_data['question'].append(question)\n",
    "    pricing+=priceEstimator(prompt, question)\n",
    "    \n",
    "    # who asked the question?\n",
    "    prompt=base_prompt+conversation+question_plugin.format(\n",
    "        question=question\n",
    "    )+'\\n'+question_user_plugin.format(\n",
    "        asker=''\n",
    "    )\n",
    "    asker=send2GPT(prompt)\n",
    "    qa_data['asker'].append(asker)\n",
    "    pricing+=priceEstimator(prompt, asker)\n",
    "    \n",
    "    # question summary\n",
    "    prompt=base_prompt+conversation+question_plugin.format(\n",
    "        question=question\n",
    "    )+'\\n'+question_summary_plugin\n",
    "    question_summary=send2GPT(prompt)\n",
    "    qa_data['question_summary'].append(question_summary)\n",
    "    pricing+=priceEstimator(prompt, question_summary)\n",
    "    \n",
    "    # what is the answer?\n",
    "    prompt=base_prompt+conversation+question_plugin.format(\n",
    "        question=question\n",
    "    )+'\\n'+answer_plugin.format(answer='')\n",
    "    answer=send2GPT(prompt)\n",
    "    qa_data['answer'].append(answer)\n",
    "    pricing+=priceEstimator(prompt, answer)\n",
    "    \n",
    "    # who answered the question?\n",
    "    prompt=base_prompt+conversation+question_plugin.format(\n",
    "        question=question\n",
    "    )+'\\n'+answer_user_plugin.format(\n",
    "        answerer=''\n",
    "    )\n",
    "    answerer=send2GPT(prompt)\n",
    "    qa_data['answerer'].append(answerer)\n",
    "    pricing+=priceEstimator(prompt, answerer)\n",
    "    \n",
    "    # answer summary\n",
    "    prompt=base_prompt+conversation+question_plugin.format(\n",
    "        question=question\n",
    "    )+'\\n'+answer_plugin.format(\n",
    "        answer=answer\n",
    "    )+'\\n'+answer_summary_plugin\n",
    "    answer_summary=send2GPT(prompt)\n",
    "    qa_data['answer_summary'].append(answer_summary)\n",
    "    pricing+=priceEstimator(prompt, answer_summary)\n",
    "    \n",
    "    # was resolved?\n",
    "    prompt=base_prompt+conversation+question_plugin.format(\n",
    "        question=question\n",
    "    )+'\\n'+answer_plugin.format(\n",
    "        answer=answer\n",
    "    )+'\\n'+\"Was the question/issue resolved (only answer Yes or No):\"\n",
    "    was_resolved=send2GPT(prompt)\n",
    "    qa_data['was_resolved'].append(was_resolved)\n",
    "    pricing+=priceEstimator(prompt, was_resolved)\n",
    "    \n",
    "    # answer rating\n",
    "    prompt=base_prompt+conversation+question_plugin.format(\n",
    "        question=question\n",
    "    )+'\\n'+answer_plugin.format(\n",
    "        answer=answer\n",
    "    )+'\\n'+answer_rating_plugin\n",
    "    answer_rating=send2GPT(prompt)\n",
    "    qa_data['answer_rating'].append(answer_rating)\n",
    "    pricing+=priceEstimator(prompt, answer_rating)\n",
    "    \n",
    "    total_pricing+=pricing\n",
    "    # i+=1\n",
    "    print(f'getting this data cost: {pricing}')\n",
    "    print(f'current total cost: {total_pricing}')\n",
    "    print('----')\n",
    "    print()\n",
    "    "
   ]
  },
  {
   "cell_type": "code",
   "execution_count": null,
   "id": "6da8320f",
   "metadata": {},
   "outputs": [],
   "source": [
    "qa_df=pd.DataFrame(qa_data)"
   ]
  },
  {
   "cell_type": "code",
   "execution_count": null,
   "id": "c2fe8358",
   "metadata": {
    "scrolled": false
   },
   "outputs": [],
   "source": [
    "qa_df"
   ]
  },
  {
   "cell_type": "code",
   "execution_count": null,
   "id": "0eeb7408",
   "metadata": {},
   "outputs": [],
   "source": []
  }
 ],
 "metadata": {
  "kernelspec": {
   "display_name": "Python 3 (ipykernel)",
   "language": "python",
   "name": "python3"
  },
  "language_info": {
   "codemirror_mode": {
    "name": "ipython",
    "version": 3
   },
   "file_extension": ".py",
   "mimetype": "text/x-python",
   "name": "python",
   "nbconvert_exporter": "python",
   "pygments_lexer": "ipython3",
   "version": "3.9.12"
  }
 },
 "nbformat": 4,
 "nbformat_minor": 5
}
